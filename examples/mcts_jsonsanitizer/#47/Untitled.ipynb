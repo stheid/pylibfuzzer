{
 "cells": [
  {
   "cell_type": "code",
   "execution_count": 1,
   "id": "857065db-89d2-46cc-b1fd-8a0990de8f12",
   "metadata": {},
   "outputs": [],
   "source": [
    "from glob import glob\n",
    "import json"
   ]
  },
  {
   "cell_type": "code",
   "execution_count": 2,
   "id": "52614bd2-e2e0-4c88-b386-c963803c0515",
   "metadata": {},
   "outputs": [],
   "source": [
    "sets = set()\n",
    "for file in glob('results/*'):\n",
    "    with open(file) as f:\n",
    "        sets.add(frozenset(json.load(f)[\"total cov\"]))"
   ]
  },
  {
   "cell_type": "code",
   "execution_count": 3,
   "id": "bf4795bd-0107-4df8-ad6a-979b22ae78d8",
   "metadata": {
    "tags": []
   },
   "outputs": [],
   "source": [
    "def min_intersection(sets: list[frozenset]):\n",
    "    min_set = sets[0]\n",
    "    for set_ in sets[1:]:\n",
    "        if len(min_set)==1:\n",
    "            return min_set\n",
    "        candidate = min_set & set_\n",
    "        if candidate: # if the resulting set is not empty\n",
    "            min_set = candidate\n",
    "    return min_set\n",
    "    \n",
    "subsets = []\n",
    "while sets:\n",
    "    subset = min_intersection(list(sets))\n",
    "    subsets.append(subset)\n",
    "    sets = set([frozenset(set_-subset) for set_ in sets])\n",
    "    sets = sets - {frozenset()}"
   ]
  },
  {
   "cell_type": "code",
   "execution_count": 9,
   "id": "88534b89-fede-4bf5-9d12-46d52e7c48c6",
   "metadata": {},
   "outputs": [],
   "source": [
    "sets = [set(set_) for set_ in subsets]"
   ]
  },
  {
   "cell_type": "code",
   "execution_count": 10,
   "id": "afd7778e-cdeb-4a40-9c75-319674dc36c0",
   "metadata": {},
   "outputs": [],
   "source": [
    "with open('controlflowgraph_with-return.json') as f:\n",
    "    graph = json.load(f)\n",
    "propper_sets = [set(v['jazzerids']) for v in graph.values() if v['jazzerids']]"
   ]
  },
  {
   "cell_type": "code",
   "execution_count": 15,
   "id": "f0ff7b2b-7730-4fab-af28-50f6c3dc9d1f",
   "metadata": {},
   "outputs": [
    {
     "name": "stdout",
     "output_type": "stream",
     "text": [
      "{32, 1, 34, 35, 169, 330, 22, 28, 30, 319} {24, 25, 22, 23}\n",
      "{2, 195, 5, 8, 170, 11, 586, 14, 16, 23, 24, 25} {24, 25, 22, 23}\n"
     ]
    }
   ],
   "source": [
    "for set_ in sets:\n",
    "    for set__ in propper_sets:\n",
    "        if set_&set__ != set__ and set_&set__ != set():\n",
    "            print(set_,set__)\n",
    "            break"
   ]
  }
 ],
 "metadata": {
  "kernelspec": {
   "display_name": "Python 3",
   "language": "python",
   "name": "python3"
  },
  "language_info": {
   "codemirror_mode": {
    "name": "ipython",
    "version": 3
   },
   "file_extension": ".py",
   "mimetype": "text/x-python",
   "name": "python",
   "nbconvert_exporter": "python",
   "pygments_lexer": "ipython3",
   "version": "3.9.6"
  }
 },
 "nbformat": 4,
 "nbformat_minor": 5
}
